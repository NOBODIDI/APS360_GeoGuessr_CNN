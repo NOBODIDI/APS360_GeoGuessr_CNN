{
  "nbformat": 4,
  "nbformat_minor": 0,
  "metadata": {
    "colab": {
      "provenance": [],
      "collapsed_sections": [
        "satm_kJWXZfc",
        "5RzvBHbyQfn_"
      ],
      "toc_visible": true,
      "include_colab_link": true
    },
    "kernelspec": {
      "name": "python3",
      "display_name": "Python 3"
    },
    "language_info": {
      "name": "python"
    },
    "gpuClass": "standard",
    "widgets": {
      "application/vnd.jupyter.widget-state+json": {
        "3b3868b196654e18a7363087a6650587": {
          "model_module": "@jupyter-widgets/controls",
          "model_name": "HBoxModel",
          "model_module_version": "1.5.0",
          "state": {
            "_dom_classes": [],
            "_model_module": "@jupyter-widgets/controls",
            "_model_module_version": "1.5.0",
            "_model_name": "HBoxModel",
            "_view_count": null,
            "_view_module": "@jupyter-widgets/controls",
            "_view_module_version": "1.5.0",
            "_view_name": "HBoxView",
            "box_style": "",
            "children": [
              "IPY_MODEL_158af608a6bb4edd9728afefe204eae5",
              "IPY_MODEL_a71d19984c46402e8b1e4bfb3e08646e",
              "IPY_MODEL_f2755615c3da4e53950aba48684b87a5"
            ],
            "layout": "IPY_MODEL_a4e42f7c17ee4e27a24ef6feaff0cb7c"
          }
        },
        "158af608a6bb4edd9728afefe204eae5": {
          "model_module": "@jupyter-widgets/controls",
          "model_name": "HTMLModel",
          "model_module_version": "1.5.0",
          "state": {
            "_dom_classes": [],
            "_model_module": "@jupyter-widgets/controls",
            "_model_module_version": "1.5.0",
            "_model_name": "HTMLModel",
            "_view_count": null,
            "_view_module": "@jupyter-widgets/controls",
            "_view_module_version": "1.5.0",
            "_view_name": "HTMLView",
            "description": "",
            "description_tooltip": null,
            "layout": "IPY_MODEL_8b3aeb38b3af493ca2812599e7e3fe01",
            "placeholder": "​",
            "style": "IPY_MODEL_052a5088603348848dff672617c7c664",
            "value": "100%"
          }
        },
        "a71d19984c46402e8b1e4bfb3e08646e": {
          "model_module": "@jupyter-widgets/controls",
          "model_name": "FloatProgressModel",
          "model_module_version": "1.5.0",
          "state": {
            "_dom_classes": [],
            "_model_module": "@jupyter-widgets/controls",
            "_model_module_version": "1.5.0",
            "_model_name": "FloatProgressModel",
            "_view_count": null,
            "_view_module": "@jupyter-widgets/controls",
            "_view_module_version": "1.5.0",
            "_view_name": "ProgressView",
            "bar_style": "success",
            "description": "",
            "description_tooltip": null,
            "layout": "IPY_MODEL_b36d4505a0fe42ef80ccbaf19441ced1",
            "max": 102540417,
            "min": 0,
            "orientation": "horizontal",
            "style": "IPY_MODEL_1b03095b86f1430488d478bf064dd048",
            "value": 102540417
          }
        },
        "f2755615c3da4e53950aba48684b87a5": {
          "model_module": "@jupyter-widgets/controls",
          "model_name": "HTMLModel",
          "model_module_version": "1.5.0",
          "state": {
            "_dom_classes": [],
            "_model_module": "@jupyter-widgets/controls",
            "_model_module_version": "1.5.0",
            "_model_name": "HTMLModel",
            "_view_count": null,
            "_view_module": "@jupyter-widgets/controls",
            "_view_module_version": "1.5.0",
            "_view_name": "HTMLView",
            "description": "",
            "description_tooltip": null,
            "layout": "IPY_MODEL_3f85c74bb3884918b75432871de22f7f",
            "placeholder": "​",
            "style": "IPY_MODEL_d1aee648ffc84d3eaca7633ca7360f1c",
            "value": " 97.8M/97.8M [00:02&lt;00:00, 49.4MB/s]"
          }
        },
        "a4e42f7c17ee4e27a24ef6feaff0cb7c": {
          "model_module": "@jupyter-widgets/base",
          "model_name": "LayoutModel",
          "model_module_version": "1.2.0",
          "state": {
            "_model_module": "@jupyter-widgets/base",
            "_model_module_version": "1.2.0",
            "_model_name": "LayoutModel",
            "_view_count": null,
            "_view_module": "@jupyter-widgets/base",
            "_view_module_version": "1.2.0",
            "_view_name": "LayoutView",
            "align_content": null,
            "align_items": null,
            "align_self": null,
            "border": null,
            "bottom": null,
            "display": null,
            "flex": null,
            "flex_flow": null,
            "grid_area": null,
            "grid_auto_columns": null,
            "grid_auto_flow": null,
            "grid_auto_rows": null,
            "grid_column": null,
            "grid_gap": null,
            "grid_row": null,
            "grid_template_areas": null,
            "grid_template_columns": null,
            "grid_template_rows": null,
            "height": null,
            "justify_content": null,
            "justify_items": null,
            "left": null,
            "margin": null,
            "max_height": null,
            "max_width": null,
            "min_height": null,
            "min_width": null,
            "object_fit": null,
            "object_position": null,
            "order": null,
            "overflow": null,
            "overflow_x": null,
            "overflow_y": null,
            "padding": null,
            "right": null,
            "top": null,
            "visibility": null,
            "width": null
          }
        },
        "8b3aeb38b3af493ca2812599e7e3fe01": {
          "model_module": "@jupyter-widgets/base",
          "model_name": "LayoutModel",
          "model_module_version": "1.2.0",
          "state": {
            "_model_module": "@jupyter-widgets/base",
            "_model_module_version": "1.2.0",
            "_model_name": "LayoutModel",
            "_view_count": null,
            "_view_module": "@jupyter-widgets/base",
            "_view_module_version": "1.2.0",
            "_view_name": "LayoutView",
            "align_content": null,
            "align_items": null,
            "align_self": null,
            "border": null,
            "bottom": null,
            "display": null,
            "flex": null,
            "flex_flow": null,
            "grid_area": null,
            "grid_auto_columns": null,
            "grid_auto_flow": null,
            "grid_auto_rows": null,
            "grid_column": null,
            "grid_gap": null,
            "grid_row": null,
            "grid_template_areas": null,
            "grid_template_columns": null,
            "grid_template_rows": null,
            "height": null,
            "justify_content": null,
            "justify_items": null,
            "left": null,
            "margin": null,
            "max_height": null,
            "max_width": null,
            "min_height": null,
            "min_width": null,
            "object_fit": null,
            "object_position": null,
            "order": null,
            "overflow": null,
            "overflow_x": null,
            "overflow_y": null,
            "padding": null,
            "right": null,
            "top": null,
            "visibility": null,
            "width": null
          }
        },
        "052a5088603348848dff672617c7c664": {
          "model_module": "@jupyter-widgets/controls",
          "model_name": "DescriptionStyleModel",
          "model_module_version": "1.5.0",
          "state": {
            "_model_module": "@jupyter-widgets/controls",
            "_model_module_version": "1.5.0",
            "_model_name": "DescriptionStyleModel",
            "_view_count": null,
            "_view_module": "@jupyter-widgets/base",
            "_view_module_version": "1.2.0",
            "_view_name": "StyleView",
            "description_width": ""
          }
        },
        "b36d4505a0fe42ef80ccbaf19441ced1": {
          "model_module": "@jupyter-widgets/base",
          "model_name": "LayoutModel",
          "model_module_version": "1.2.0",
          "state": {
            "_model_module": "@jupyter-widgets/base",
            "_model_module_version": "1.2.0",
            "_model_name": "LayoutModel",
            "_view_count": null,
            "_view_module": "@jupyter-widgets/base",
            "_view_module_version": "1.2.0",
            "_view_name": "LayoutView",
            "align_content": null,
            "align_items": null,
            "align_self": null,
            "border": null,
            "bottom": null,
            "display": null,
            "flex": null,
            "flex_flow": null,
            "grid_area": null,
            "grid_auto_columns": null,
            "grid_auto_flow": null,
            "grid_auto_rows": null,
            "grid_column": null,
            "grid_gap": null,
            "grid_row": null,
            "grid_template_areas": null,
            "grid_template_columns": null,
            "grid_template_rows": null,
            "height": null,
            "justify_content": null,
            "justify_items": null,
            "left": null,
            "margin": null,
            "max_height": null,
            "max_width": null,
            "min_height": null,
            "min_width": null,
            "object_fit": null,
            "object_position": null,
            "order": null,
            "overflow": null,
            "overflow_x": null,
            "overflow_y": null,
            "padding": null,
            "right": null,
            "top": null,
            "visibility": null,
            "width": null
          }
        },
        "1b03095b86f1430488d478bf064dd048": {
          "model_module": "@jupyter-widgets/controls",
          "model_name": "ProgressStyleModel",
          "model_module_version": "1.5.0",
          "state": {
            "_model_module": "@jupyter-widgets/controls",
            "_model_module_version": "1.5.0",
            "_model_name": "ProgressStyleModel",
            "_view_count": null,
            "_view_module": "@jupyter-widgets/base",
            "_view_module_version": "1.2.0",
            "_view_name": "StyleView",
            "bar_color": null,
            "description_width": ""
          }
        },
        "3f85c74bb3884918b75432871de22f7f": {
          "model_module": "@jupyter-widgets/base",
          "model_name": "LayoutModel",
          "model_module_version": "1.2.0",
          "state": {
            "_model_module": "@jupyter-widgets/base",
            "_model_module_version": "1.2.0",
            "_model_name": "LayoutModel",
            "_view_count": null,
            "_view_module": "@jupyter-widgets/base",
            "_view_module_version": "1.2.0",
            "_view_name": "LayoutView",
            "align_content": null,
            "align_items": null,
            "align_self": null,
            "border": null,
            "bottom": null,
            "display": null,
            "flex": null,
            "flex_flow": null,
            "grid_area": null,
            "grid_auto_columns": null,
            "grid_auto_flow": null,
            "grid_auto_rows": null,
            "grid_column": null,
            "grid_gap": null,
            "grid_row": null,
            "grid_template_areas": null,
            "grid_template_columns": null,
            "grid_template_rows": null,
            "height": null,
            "justify_content": null,
            "justify_items": null,
            "left": null,
            "margin": null,
            "max_height": null,
            "max_width": null,
            "min_height": null,
            "min_width": null,
            "object_fit": null,
            "object_position": null,
            "order": null,
            "overflow": null,
            "overflow_x": null,
            "overflow_y": null,
            "padding": null,
            "right": null,
            "top": null,
            "visibility": null,
            "width": null
          }
        },
        "d1aee648ffc84d3eaca7633ca7360f1c": {
          "model_module": "@jupyter-widgets/controls",
          "model_name": "DescriptionStyleModel",
          "model_module_version": "1.5.0",
          "state": {
            "_model_module": "@jupyter-widgets/controls",
            "_model_module_version": "1.5.0",
            "_model_name": "DescriptionStyleModel",
            "_view_count": null,
            "_view_module": "@jupyter-widgets/base",
            "_view_module_version": "1.2.0",
            "_view_name": "StyleView",
            "description_width": ""
          }
        }
      }
    }
  },
  "cells": [
    {
      "cell_type": "markdown",
      "metadata": {
        "id": "view-in-github",
        "colab_type": "text"
      },
      "source": [
        "<a href=\"https://colab.research.google.com/github/NOBODIDI/APS360_GeoGuessr_NN/blob/main/testing/Distance_Computation_and_Visualizations.ipynb\" target=\"_parent\"><img src=\"https://colab.research.google.com/assets/colab-badge.svg\" alt=\"Open In Colab\"/></a>"
      ]
    },
    {
      "cell_type": "markdown",
      "source": [
        "# Useful Links\n",
        "\n",
        "*   Background info: https://cs231n.github.io/transfer-learning/\n",
        "*   https://pytorch.org/tutorials/beginner/transfer_learning_tutorial.html\n",
        "* Finetuning: https://pytorch.org/tutorials/beginner/finetuning_torchvision_models_tutorial.html\n",
        "\n",
        "\n"
      ],
      "metadata": {
        "id": "Zqh8KJ5nURfR"
      }
    },
    {
      "cell_type": "code",
      "source": [
        "from google.colab import drive\n",
        "drive.mount('/content/drive')"
      ],
      "metadata": {
        "colab": {
          "base_uri": "https://localhost:8080/"
        },
        "id": "wruYZ2HiCE8e",
        "outputId": "cc426763-245b-4717-9ac7-006bd01877ad"
      },
      "execution_count": null,
      "outputs": [
        {
          "output_type": "stream",
          "name": "stdout",
          "text": [
            "Mounted at /content/drive\n"
          ]
        }
      ]
    },
    {
      "cell_type": "markdown",
      "source": [
        "REMEMBER TO CHANGE RUNTIME TO GPU AND THEN MOUNT GOOGLE DRIVE (ALSO ADD TRAIN_VAL_TEST_SPLIT AS A SHORTCUT TO DRIVE)"
      ],
      "metadata": {
        "id": "G3qo_AEd0h1z"
      }
    },
    {
      "cell_type": "code",
      "execution_count": null,
      "metadata": {
        "id": "GOL4hoqPs3dY"
      },
      "outputs": [],
      "source": [
        "import torch\n",
        "import torchvision\n",
        "import torchvision.models as models\n",
        "import torchvision.transforms as transforms\n",
        "import torch.nn as nn\n",
        "import torch.nn.functional as F\n",
        "import torch.optim as optim\n",
        "import numpy as np\n",
        "from PIL import Image\n",
        "import os\n",
        "import matplotlib.pyplot as plt\n",
        "import shutil\n",
        "import time\n",
        "import copy\n",
        "\n",
        "# For geographical distance computation\n",
        "import geopy\n",
        "from geopy.distance import great_circle \n",
        "\n",
        "# CSV\n",
        "import csv"
      ]
    },
    {
      "cell_type": "markdown",
      "source": [
        "### Initializing Model"
      ],
      "metadata": {
        "id": "Mg7MDPJW4cfs"
      }
    },
    {
      "cell_type": "markdown",
      "source": [
        "#### Datasets and Dataloaders (Run ONCE)"
      ],
      "metadata": {
        "id": "JSI9t5Th_Z8j"
      }
    },
    {
      "cell_type": "code",
      "source": [
        "# Loading in Data\n",
        "\n",
        "# /////////// CHANGE THIS TO TRUE IF YOU WANT TO USE INCEPTION /////////\n",
        "is_inception = False\n",
        "# /////////////////////////////////////////////////////////\n",
        "if is_inception:\n",
        "    resize = 342\n",
        "    input_size = 299\n",
        "else:\n",
        "    resize = 256\n",
        "    input_size = 224\n",
        "\n",
        "# Data augmentation and normalization for training\n",
        "# Just normalization for validation, test\n",
        "\n",
        "data_transforms = {\n",
        "    'train': transforms.Compose([\n",
        "        transforms.RandomResizedCrop(input_size),\n",
        "        transforms.ToTensor(),\n",
        "        transforms.Normalize([0.485, 0.456, 0.406], [0.229, 0.224, 0.225])\n",
        "    ]),\n",
        "    'val': transforms.Compose([\n",
        "        transforms.Resize(resize),\n",
        "        transforms.CenterCrop(input_size),\n",
        "        transforms.ToTensor(),\n",
        "        transforms.Normalize([0.485, 0.456, 0.406], [0.229, 0.224, 0.225])\n",
        "    ]),\n",
        "     'test': transforms.Compose([\n",
        "        transforms.Resize(resize),\n",
        "        transforms.CenterCrop(input_size),\n",
        "        transforms.ToTensor(),\n",
        "        transforms.Normalize([0.485, 0.456, 0.406], [0.229, 0.224, 0.225])\n",
        "    ])\n",
        "}\n",
        "\n",
        "# ////////////////// CHANGE THIS IF NEEDED TO POINT TO THE DATA ////////////////////////\n",
        "root_path = \"/content/drive/MyDrive/APS360 - Deep Learning Project /Colab Notebooks/32k_train_val_test\"\n",
        "# ////////////////////////////////////////////////////////////////////////////////\n",
        "\n",
        "# Fixed PyTorch random seed for reproducible result\n",
        "torch.manual_seed(1000)\n",
        "\n",
        "# Create training and validation and test datasets\n",
        "image_datasets = {x: torchvision.datasets.ImageFolder(os.path.join(root_path, x), \n",
        "                                                      data_transforms[x]) for x in ['train', 'val','test']}\n",
        "\n",
        "classes = image_datasets['train'].classes\n",
        "# Number of classes\n",
        "num_classes = len(classes)\n",
        "print(\"Total dataset:\",len(image_datasets['train'])+len(image_datasets['val'])+len(image_datasets['test']),\"\\n\",\n",
        "      \"\\tTrain size:\",len(image_datasets['train']),\"\\n\\tVal size:\",len(image_datasets['val']),\"\\n\\tTest size:\",len(image_datasets['test']))\n",
        "print(\"Number of classes:\",num_classes)\n",
        "\n",
        "batch_size = 64\n",
        "# Create training and validation and test dataloaders\n",
        "dataloaders_dict = {x: torch.utils.data.DataLoader(image_datasets[x], batch_size=batch_size, \n",
        "                                                   shuffle=True, num_workers=1) for x in ['train', 'val','test']}"
      ],
      "metadata": {
        "colab": {
          "base_uri": "https://localhost:8080/"
        },
        "id": "M4JMTa2l6ARy",
        "outputId": "df1fd40a-ab87-4d68-cf63-b056838e312e"
      },
      "execution_count": null,
      "outputs": [
        {
          "output_type": "stream",
          "name": "stdout",
          "text": [
            "Total dataset: 32000 \n",
            " \tTrain size: 22400 \n",
            "\tVal size: 4800 \n",
            "\tTest size: 4800\n",
            "Number of classes: 80\n"
          ]
        }
      ]
    },
    {
      "cell_type": "markdown",
      "source": [
        "# Import Trained Model Weights"
      ],
      "metadata": {
        "id": "RfZZTKna9fD5"
      }
    },
    {
      "cell_type": "code",
      "source": [
        "# Path to model with the hightest preliminary training accuracy\n",
        "model_path = \"/content/drive/MyDrive/APS360 - Deep Learning Project /Colab Notebooks/Hyperparameter Tuning/ResNet50 Results/Best model/best_32k_unfrozen_model_resnet50_bs64_lr0.001_ht10_wd1e-06_epochs40\"\n",
        "\n",
        "# Create model instance\n",
        "trained_model = models.resnet50(weights='DEFAULT')\n",
        "num_ftrs = trained_model.fc.in_features\n",
        "trained_model.fc = nn.Linear(num_ftrs, 80)\n",
        "\n",
        "# Load trained weights\n",
        "trained_model.load_state_dict(torch.load(model_path, map_location=torch.device('cpu')))\n"
      ],
      "metadata": {
        "colab": {
          "base_uri": "https://localhost:8080/",
          "height": 84,
          "referenced_widgets": [
            "3b3868b196654e18a7363087a6650587",
            "158af608a6bb4edd9728afefe204eae5",
            "a71d19984c46402e8b1e4bfb3e08646e",
            "f2755615c3da4e53950aba48684b87a5",
            "a4e42f7c17ee4e27a24ef6feaff0cb7c",
            "8b3aeb38b3af493ca2812599e7e3fe01",
            "052a5088603348848dff672617c7c664",
            "b36d4505a0fe42ef80ccbaf19441ced1",
            "1b03095b86f1430488d478bf064dd048",
            "3f85c74bb3884918b75432871de22f7f",
            "d1aee648ffc84d3eaca7633ca7360f1c"
          ]
        },
        "id": "F1dw6B549hEW",
        "outputId": "342e5264-c084-44f7-dd91-3cf2f31d692c"
      },
      "execution_count": null,
      "outputs": [
        {
          "output_type": "stream",
          "name": "stderr",
          "text": [
            "Downloading: \"https://download.pytorch.org/models/resnet50-11ad3fa6.pth\" to /root/.cache/torch/hub/checkpoints/resnet50-11ad3fa6.pth\n"
          ]
        },
        {
          "output_type": "display_data",
          "data": {
            "text/plain": [
              "  0%|          | 0.00/97.8M [00:00<?, ?B/s]"
            ],
            "application/vnd.jupyter.widget-view+json": {
              "version_major": 2,
              "version_minor": 0,
              "model_id": "3b3868b196654e18a7363087a6650587"
            }
          },
          "metadata": {}
        },
        {
          "output_type": "execute_result",
          "data": {
            "text/plain": [
              "<All keys matched successfully>"
            ]
          },
          "metadata": {},
          "execution_count": 4
        }
      ]
    },
    {
      "cell_type": "markdown",
      "source": [
        "## Testing Model\n"
      ],
      "metadata": {
        "id": "satm_kJWXZfc"
      }
    },
    {
      "cell_type": "code",
      "source": [
        "def test_model(model, \n",
        "               datasets=image_datasets, \n",
        "               batch_size=256 ):\n",
        "  \n",
        "    since = time.time()\n",
        "    dataloaders = {x: torch.utils.data.DataLoader(datasets[x], \n",
        "                                                  batch_size=batch_size, \n",
        "                                                  shuffle=True, \n",
        "                                                  num_workers=1) for x in ['test']}\n",
        "\n",
        "    model.eval()   # Set model to evaluate mode\n",
        "    running_corrects = 0\n",
        "\n",
        "    # Iterate over data.\n",
        "    for inputs, labels in dataloaders['test']:\n",
        "\n",
        "        #############################################\n",
        "        #To Enable GPU Usage\n",
        "        if use_cuda and torch.cuda.is_available():\n",
        "          model = model.cuda()\n",
        "          inputs = inputs.cuda()\n",
        "          labels = labels.cuda()\n",
        "        #############################################\n",
        "\n",
        "        # Get model outputs and calculate loss\n",
        "        outputs = model(inputs)\n",
        "        _, preds = torch.max(outputs, 1)\n",
        "\n",
        "        # statistics\n",
        "        running_corrects += torch.sum(preds == labels.data)\n",
        "\n",
        "    test_acc = float(running_corrects) / len(dataloaders['test'].dataset)\n",
        "\n",
        "    time_elapsed = time.time() - since\n",
        "    print('Testing complete in {:.0f}m {:.0f}s'.format(time_elapsed // 60, time_elapsed % 60))\n",
        "    print('Test Acc: {:4f}'.format(test_acc))\n",
        "\n",
        "    return"
      ],
      "metadata": {
        "id": "6YYaV4rbL-Ak"
      },
      "execution_count": null,
      "outputs": []
    },
    {
      "cell_type": "markdown",
      "source": [
        "# Testing Model"
      ],
      "metadata": {
        "id": "5RzvBHbyQfn_"
      }
    },
    {
      "cell_type": "code",
      "source": [
        "# Run on GPU\n",
        "use_cuda = True\n",
        "if use_cuda and torch.cuda.is_available():\n",
        "  trained_model = trained_model.cuda()\n",
        "  print('CUDA is available!  Running on GPU ...')\n",
        "else:\n",
        "  print('CUDA is not available.  Running on CPU ...')\n",
        "\n",
        "test_model(trained_model, datasets=image_datasets, batch_size=64)\n",
        "\n"
      ],
      "metadata": {
        "colab": {
          "base_uri": "https://localhost:8080/"
        },
        "id": "THDFf2rbJDOC",
        "outputId": "68fa7fef-ad53-474a-ed32-ccb0ec99cfd0"
      },
      "execution_count": null,
      "outputs": [
        {
          "output_type": "stream",
          "name": "stdout",
          "text": [
            "CUDA is not available.  Running on CPU ...\n",
            "Testing complete in 25m 35s\n",
            "Test Acc: 0.413125\n"
          ]
        }
      ]
    },
    {
      "cell_type": "markdown",
      "source": [
        "# Define Distance Evaluator Function\n",
        "This function returns the distance between two cordinates (latitude, longitude)"
      ],
      "metadata": {
        "id": "MrgtSuezbgYG"
      }
    },
    {
      "cell_type": "code",
      "source": [
        "# Reading the CSV and construct dictionary for geocell centre look-up\n",
        "################################### Replace hyperlink to csv file path #################################################\n",
        "csv_path = '/content/drive/MyDrive/APS360 - Deep Learning Project /Colab Notebooks/processed_geocells_final.csv'\n",
        "########################################################################################################################\n",
        "# Initialise empty dictionary\n",
        "class_centre_dict={}\n",
        "\n",
        "with open(csv_path,'r') as csv_file:\n",
        "  csv_reader = csv.reader(csv_file, delimiter=',') \n",
        "  counter=1\n",
        "  for row in csv_reader:\n",
        "    if counter!=1:\n",
        "      class_centre_dict[int(row[0])]=[float(row[5]),float(row[6])]\n",
        "    counter+=1\n",
        "\n",
        "# Put the lats and lons of each geocell centre into separate lists, ordered by\n",
        "# the order of the classes in the torch model outputs; convert the lists to tensors\n",
        "geocell_lats = [class_centre_dict[int(geocell_id)][0] for geocell_id in classes]\n",
        "geocell_lons = [class_centre_dict[int(geocell_id)][1] for geocell_id in classes]\n",
        "geocell_lats = torch.Tensor(geocell_lats).unsqueeze(0)\n",
        "geocell_lons = torch.Tensor(geocell_lons).unsqueeze(0)\n",
        "\n",
        "# Reading the filename to image coordinates dictionary\n",
        "################################### Replace hyperlink to csv file path #################################################\n",
        "csv_path = '/content/drive/MyDrive/APS360 - Deep Learning Project /Colab Notebooks/imagery_locations_merged.csv'\n",
        "########################################################################################################################\n",
        "# Initialise empty dictionary\n",
        "image_location_dict={}\n",
        "\n",
        "with open(csv_path,'r') as csv_file:\n",
        "  csv_reader = csv.reader(csv_file, delimiter=',') \n",
        "  counter=1\n",
        "  for row in csv_reader:\n",
        "    if counter!=1:\n",
        "      image_location_dict[row[1]]=[float(row[2]),float(row[3])]\n",
        "    counter+=1\n"
      ],
      "metadata": {
        "id": "WuO4MIZzcbme"
      },
      "execution_count": null,
      "outputs": []
    },
    {
      "cell_type": "code",
      "source": [
        "def model_distance(model, image_path, image_filename, true_class, print_results=True):\n",
        "    #def model_distance(model, root_path, dataset, true_class, image_filename):\n",
        "    '''\n",
        "    This function computes the distance of between the center of the model's prediction class and the image's true location given its filename and specified folders\n",
        "\n",
        "    Dataset sor can be either 'test', 'val', or 'train'\n",
        "    '''\n",
        "    model.eval()\n",
        "\n",
        "    ###################### GENERATE PATH #############################\n",
        "    #image_path = os.path.join(root_path, dataset, true_class, image_filename)\n",
        "    image = plt.imread(image_path,0)\n",
        "    # Repeat dataset transforms\n",
        "    transform = transforms.Compose([transforms.ToTensor(), \n",
        "                                transforms.Resize(256), \n",
        "                                transforms.CenterCrop(224), \n",
        "                                transforms.Normalize([0.485, 0.456, 0.406], [0.229, 0.224, 0.225])])\n",
        "    # Apply transforms\n",
        "    image_torch = transform(image)\n",
        "    # # Converts tensor dimensions C,W,H -> W,H,C\n",
        "    # image_torch.permute(1, 2, 0)\n",
        "    # plt.imshow(image_torch)\n",
        "    # Convert 3D tensor -> 4D tensor\n",
        "    image_torch = image_torch.unsqueeze(0)\n",
        "\n",
        "    # Get raw model outputs\n",
        "    outputs = model(image_torch)\n",
        "    outputs = F.softmax(outputs, dim=1) # probs now all sum to 1 and in range of [0,1]\n",
        "\n",
        "    if print_results:\n",
        "        print(f'True geocell of image: {true_class}')\n",
        "\n",
        "    # Basic method: taking centre of output class with highest probability\n",
        "    predicted_class = classes[outputs.argmax(dim=1)]\n",
        "    predicted_prob = torch.max(outputs, dim=1).values.item()\n",
        "    centre_of_prediction_class = class_centre_dict.get(int(predicted_class))\n",
        "    if print_results:\n",
        "        print(f'Predicted geocell with highest probability: {predicted_class} with confidence {predicted_prob:.4f}')\n",
        "        # print(f'Predicted image location as centre of most likely geocell: {centre_of_prediction_class}')\n",
        "\n",
        "    # More complex method: taking the weighted average of centres of all classes,\n",
        "    # based on predicted probabilities \n",
        "    # Take weighted sum of all lats (element-wise mult between probs and lats)\n",
        "    predicted_avg_lat = torch.mul(outputs, geocell_lats).sum(dim=1)\n",
        "    predicted_avg_lon = torch.mul(outputs, geocell_lons).sum(dim=1) # repeat for lons\n",
        "    predicted_avg_location = [predicted_avg_lat[0].item(), predicted_avg_lon[0].item()]\n",
        "    if print_results:\n",
        "        # print(f'Predicted image location as weighted average of all geocell centres: {predicted_avg_location}')\n",
        "        print(f'Predicted image location: {predicted_avg_location}')\n",
        "\n",
        "    # Retrieve image location\n",
        "    image_location = image_location_dict.get(image_filename)\n",
        "    if print_results:\n",
        "        print(f'True location of image: {image_location}')\n",
        "\n",
        "    # Calculate distance errors\n",
        "    distance_centre = great_circle(centre_of_prediction_class, image_location).km\n",
        "    distance_weighted = great_circle(predicted_avg_location, image_location).km\n",
        "\n",
        "    if print_results:\n",
        "        # print(f'Distance error to centre of most likely geocell: {distance_centre:.2f} km')\n",
        "        # print(f'Distance error to weighted average of all geocell centres: {distance_weighted:.2f} km')\n",
        "        print(f'Distance error: {distance_weighted:.2f} km')\n",
        "\n",
        "    map_vis = create_output_visualization(outputs, true_class, \n",
        "                                          centre_of_prediction_class, \n",
        "                                          predicted_avg_location, image_location)\n",
        "\n",
        "    return map_vis, int(predicted_class), distance_centre, distance_weighted, predicted_avg_location\n"
      ],
      "metadata": {
        "id": "uy3YzFKJ54y5"
      },
      "execution_count": null,
      "outputs": []
    },
    {
      "cell_type": "code",
      "source": [
        "import folium\n",
        "import pandas as pd\n",
        "from IPython.display import display\n",
        "\n",
        "geocells = pd.read_csv('/content/drive/MyDrive/APS360 - Deep Learning Project /Colab Notebooks/processed_geocells_final.csv')\n",
        "\n",
        "def create_output_visualization(outputs, true_class, predicted_centre, predicted_weighted, true_loc):\n",
        "\n",
        "    m = folium.Map(location=[44.967243, -103.771556], zoom_start=3, tiles='cartodb positron')\n",
        "\n",
        "    for i, geocell_prob in enumerate(outputs[0]):\n",
        "        prob_class = int(classes[i])\n",
        "        geocell_info = geocells[geocells['geocell_id'] == prob_class].squeeze()\n",
        "\n",
        "        # draw geocell rectangle\n",
        "        folium.vector_layers.Rectangle(\n",
        "            bounds=[\n",
        "                (geocell_info['lat_top'], geocell_info['lon_left']),\n",
        "                (geocell_info['lat_top'], geocell_info['lon_right']),\n",
        "                (geocell_info['lat_bottom'], geocell_info['lon_right']),\n",
        "                (geocell_info['lat_bottom'], geocell_info['lon_left'])\n",
        "            ], \n",
        "            color='gray', fill=True, fill_color='green', \n",
        "            fill_opacity=geocell_prob.item() * 0.7, \n",
        "            tooltip=f'ID: {prob_class}; prob: {geocell_prob * 100:.2f}%').add_to(m)\n",
        "        \n",
        "    # add markers for true location and the two guesses\n",
        "    sv_url = f'<a href=http://maps.google.com/maps?q=&layer=c&cbll={true_loc[0]},{true_loc[1]} target=_blank>' \\\n",
        "             f'{true_loc[0]},{true_loc[1]}</a>'\n",
        "    folium.Marker(location=true_loc, \n",
        "                  icon=folium.Icon(color='black', icon='flag'), \n",
        "                  tooltip='True Location', popup=sv_url).add_to(m)\n",
        "    # folium.Marker(location=predicted_centre, \n",
        "    #               icon=folium.Icon(color='red'), \n",
        "    #               tooltip='Predicted Location (Centre)').add_to(m)\n",
        "    folium.Marker(location=predicted_weighted, \n",
        "                  icon=folium.Icon(color='orange'), \n",
        "                  tooltip='Predicted Location (Weighted)').add_to(m)\n",
        "\n",
        "    # add lines from guesses to true location\n",
        "    # folium.vector_layers.PolyLine(locations=[true_loc, predicted_centre], color='red').add_to(m)\n",
        "    folium.vector_layers.PolyLine(locations=[true_loc, predicted_weighted], color='orange').add_to(m)\n",
        "\n",
        "    return m"
      ],
      "metadata": {
        "id": "Y_mIm4EMeqA4"
      },
      "execution_count": null,
      "outputs": []
    },
    {
      "cell_type": "code",
      "source": [
        "# ----- Tests (Don't need to run this for demo) ------\n",
        "\n",
        "root_path = '/content/drive/MyDrive/APS360 - Deep Learning Project /Colab Notebooks/32k_train_val_test/test'\n",
        "\n",
        "# define tests as a list of tuples of (true class, filename without extension) \n",
        "tests = [\n",
        "    # (100, '-0VT1h4kR6JMngUUTkFCrQ'),\n",
        "    # (41, 'bZEnG1EgWjUfsvzrJpvQTQ'),\n",
        "    # (206, 'Q5IA8WBh9YDoDhA8GWuogQ'),\n",
        "    # (66, 'Drojr30vColtzLzVGSzHbg'),\n",
        "    # (93, 'lqxGPPDv1S49MBF-fbA6Yw'),\n",
        "    # (114, 'K5gYX0MYXlcwiqBYTZKXVQ'),\n",
        "    (22, '-Gr7SS91nEotBWPs7OSqGw'),\n",
        "    # (22, 'rlCnuV5ZRD1wEUUL6TBIbg')\n",
        "]\n",
        "\n",
        "for i, test in enumerate(tests):\n",
        "    print(f'----- Test {i+1} -----')\n",
        "    image_path = root_path + f'/{test[0]}/{test[1]}.png'\n",
        "    map_vis, _, _, _, _ = model_distance(trained_model, image_path, test[1], test[0])\n",
        "    print()\n",
        "    display(map_vis)\n"
      ],
      "metadata": {
        "id": "nuzBj4FHZk9Q"
      },
      "execution_count": null,
      "outputs": []
    },
    {
      "cell_type": "markdown",
      "source": [
        "# Demo"
      ],
      "metadata": {
        "id": "-FQLlS_2FGbq"
      }
    },
    {
      "cell_type": "markdown",
      "source": [
        "### Look Up Image IDs from Test Lat/Lons"
      ],
      "metadata": {
        "id": "R7cvmWOgFNvz"
      }
    },
    {
      "cell_type": "code",
      "source": [
        "import pandas as pd\n",
        "\n",
        "img_metadata_db = pd.read_csv('/content/drive/MyDrive/APS360 - Deep Learning Project /Colab Notebooks/final_representative_tests/imagery_locations_32k_test.csv')\n",
        "root_path = '/content/drive/MyDrive/APS360 - Deep Learning Project /Colab Notebooks/32k_train_val_test/test'\n",
        "# img_metadata_db = pd.read_csv('/content/drive/MyDrive/APS360 - Deep Learning Project /Colab Notebooks/final_representative_tests/imagery_locations_test_new.csv')\n",
        "# root_path = '/content/drive/MyDrive/APS360 - Deep Learning Project /Colab Notebooks/dataset4_28000'\n",
        "\n",
        "use_random = False\n",
        "\n",
        "if not use_random:\n",
        "\n",
        "    # ///////////////////////////////////////////////////////////////\n",
        "    # Enter lat/lon of test locations from Google Maps / GeoGuessr \n",
        "    # ///////////////////////////////////////////////////////////////\n",
        "    test_latlons = [\n",
        "        (34.575479,-100.954848), # Location 0\n",
        "        (46.22356,-105.685128), # Location 1\n",
        "        (17.10401,-96.847175), # Location 2\n",
        "        (45.941962,-87.207782), # Location 3\n",
        "        (34.768993,-81.017117), # Location 4\n",
        "        (36.096242,-111.357211), # 5\n",
        "        (47.001163,-54.136505), # 6\n",
        "        (51.270838,-107.78829), # 7\n",
        "        (16.690046,-92.017375), # 8\n",
        "        (46.246886,-94.973527), # 9\n",
        "    ]\n",
        "\n",
        "    test_imgs = []\n",
        "\n",
        "    for lat, lon in test_latlons:\n",
        "        # get closest match in terms of coordinates\n",
        "        img_metadata_db['coords_diff'] = (img_metadata_db['img_lat'] - lat).abs() + \\\n",
        "                                        (img_metadata_db['img_lon'] - lon).abs()\n",
        "        img_row = img_metadata_db[img_metadata_db['coords_diff'] == img_metadata_db['coords_diff'].min()].squeeze()\n",
        "        test_imgs.append((img_row['geocell_id'], img_row['pano_id']))\n",
        "\n",
        "else:\n",
        "\n",
        "    # OR use random test images\n",
        "    # random_df = img_metadata_db.sample(50, ignore_index=True) # randomly sample some images from set\n",
        "    random_df = img_metadata_db.copy() # use all images\n",
        "    test_imgs = list(zip(random_df['geocell_id'].tolist(), random_df['pano_id'].tolist()))\n"
      ],
      "metadata": {
        "id": "qOTr20V-Ffws"
      },
      "execution_count": null,
      "outputs": []
    },
    {
      "cell_type": "markdown",
      "source": [
        "To save any generated random set:"
      ],
      "metadata": {
        "id": "NYuDLFQSvtFo"
      }
    },
    {
      "cell_type": "code",
      "source": [
        "random_df.to_csv('/content/drive/MyDrive/APS360 - Deep Learning Project /Colab Notebooks/final_representative_tests/rand50_2.csv', index=False)"
      ],
      "metadata": {
        "id": "JdJ77puqvJBX"
      },
      "execution_count": null,
      "outputs": []
    },
    {
      "cell_type": "markdown",
      "source": [
        "### Get Model Predictions and Results\n"
      ],
      "metadata": {
        "id": "Z25ejJbzFiBs"
      }
    },
    {
      "cell_type": "markdown",
      "source": [
        "#### Small dataset / individual map visualizations:"
      ],
      "metadata": {
        "id": "kxFVW8s1XQ_Y"
      }
    },
    {
      "cell_type": "code",
      "source": [
        "# PARAMETERS\n",
        "run_aggregate = False\n",
        "\n",
        "# ------------------------- Get Aggregate Results ------------------------------\n",
        "if run_aggregate:\n",
        "\n",
        "    import statistics as st\n",
        "\n",
        "    correct_class_count = 0\n",
        "    distance_errors_centre = []\n",
        "    distance_errors_weighted = []\n",
        "\n",
        "    for img_class, img_id in test_imgs:\n",
        "        image_path = root_path + f'/{img_class}/{img_id}.png'\n",
        "        _, predicted_class, distance_centre, distance_avg, _ = model_distance(trained_model, image_path, img_id, img_class, print_results=False)\n",
        "\n",
        "        correct_class_count += int(img_class == predicted_class)\n",
        "        distance_errors_centre.append(distance_centre)\n",
        "        distance_errors_weighted.append(distance_avg)\n",
        "\n",
        "    print('----- Aggregate Statistics -----')\n",
        "    print(f'Number of locations: {len(test_imgs)}')\n",
        "    print(f'Correctly predicted classes: {correct_class_count} out of {len(test_imgs)}')\n",
        "    # print(f'Total distance error (centre): {sum(distance_errors_centre):.2f} km')\n",
        "    print(f'Total distance error: {sum(distance_errors_weighted):.2f} km')\n",
        "    # print(f'Average distance error per location (centre): {st.mean(distance_errors_centre):.2f} km')\n",
        "    print(f'Average distance error per location: {st.mean(distance_errors_weighted):.2f} km')\n",
        "    # print(f'Max distance error per location (centre): {max(distance_errors_centre):.2f} km')\n",
        "    print(f'Max distance error per location: {max(distance_errors_weighted):.2f} km (location {np.argmax(distance_errors_weighted)})')\n",
        "    # print(f'Min distance error per location (centre): {min(distance_errors_centre):.2f} km')\n",
        "    print(f'Min distance error per location: {min(distance_errors_weighted):.2f} km (location {np.argmin(distance_errors_weighted)})')\n",
        "    # print(f'Median distance error per location (centre): {st.median(distance_errors_centre):.2f} km')\n",
        "    print(f'Median distance error per location: {st.median(distance_errors_weighted):.2f} km')\n",
        "    print()\n",
        "\n",
        "# ------------------------- View Results One-by-One ----------------------------\n",
        "if not run_aggregate:\n",
        "\n",
        "    cur_test_index = 4 # ////// Change this to view results of each test image in the defined set\n",
        "    cur_test_img_class = test_imgs[cur_test_index][0]\n",
        "    cur_test_img_id = test_imgs[cur_test_index][1]\n",
        "\n",
        "    print(f'----- Results for Location {cur_test_index} -----')\n",
        "    print(f'Image ID: {cur_test_img_id}')\n",
        "    image_path = root_path + f'/{cur_test_img_class}/{cur_test_img_id}.png'\n",
        "    map_vis, _, _, _, _ = model_distance(trained_model, image_path, cur_test_img_id, cur_test_img_class)\n",
        "    print()\n",
        "    display(map_vis)"
      ],
      "metadata": {
        "id": "MbgotB1AFq5-"
      },
      "execution_count": null,
      "outputs": []
    },
    {
      "cell_type": "markdown",
      "source": [
        "#### Large dataset - results stored to file"
      ],
      "metadata": {
        "id": "0ytejVh5XXj_"
      }
    },
    {
      "cell_type": "code",
      "source": [
        "from tqdm import tqdm\n",
        "\n",
        "demo_output = random_df.copy()\n",
        "demo_output['predicted_geocell'] = 0 # initialize column in order to use int datatype\n",
        "\n",
        "for i in tqdm(range(len(demo_output))):\n",
        "    img_row = demo_output.iloc[i].squeeze()\n",
        "    img_class = img_row['geocell_id']\n",
        "    img_id = img_row['pano_id']\n",
        "\n",
        "    image_path = root_path + f'/{img_class}/{img_id}.png'\n",
        "    _, predicted_class, _, distance_avg, pred_loc = model_distance(trained_model, image_path, img_id, img_class, print_results=False)\n",
        "    demo_output.loc[i, 'predicted_geocell'] = predicted_class\n",
        "    demo_output.loc[i, 'predicted_lat'] = pred_loc[0]\n",
        "    demo_output.loc[i, 'predicted_lon'] = pred_loc[1]\n",
        "    demo_output.loc[i, 'distance_error'] = distance_avg\n",
        "\n",
        "demo_output['distance_error'] = demo_output['distance_error'].round(2)\n",
        "\n",
        "demo_output.to_csv('/content/drive/MyDrive/APS360 - Deep Learning Project /Colab Notebooks/final_representative_tests/new_test_all_results.csv', index=False)"
      ],
      "metadata": {
        "colab": {
          "base_uri": "https://localhost:8080/"
        },
        "id": "qqH6OChpXag-",
        "outputId": "ca8f54ff-c836-4685-ec67-66b2f41d3812"
      },
      "execution_count": null,
      "outputs": [
        {
          "output_type": "stream",
          "name": "stderr",
          "text": [
            "100%|██████████| 4800/4800 [43:43<00:00,  1.83it/s]\n"
          ]
        }
      ]
    },
    {
      "cell_type": "markdown",
      "source": [
        "Aggregate statistics and visualizations:"
      ],
      "metadata": {
        "id": "hs98GR-wYIL0"
      }
    },
    {
      "cell_type": "code",
      "source": [
        "import pandas as pd\n",
        "from IPython.display import display\n",
        "\n",
        "demo_output = pd.read_csv('/content/drive/MyDrive/APS360 - Deep Learning Project /Colab Notebooks/final_representative_tests/32k_test_all_results.csv')"
      ],
      "metadata": {
        "id": "pKhS-aMCYPZ_"
      },
      "execution_count": null,
      "outputs": []
    },
    {
      "cell_type": "markdown",
      "source": [
        "Histogram of distance errors:"
      ],
      "metadata": {
        "id": "-3WZieP4nZe2"
      }
    },
    {
      "cell_type": "code",
      "source": [
        "print(f'Total number of locations tested: {len(demo_output)}')\n",
        "print(f\"Average: {demo_output['distance_error'].mean():.2f} km\")\n",
        "print(f\"Minimum: {demo_output['distance_error'].min()} km\")\n",
        "print(f\"Maximum: {demo_output['distance_error'].max()} km\")\n",
        "print(f\"Median: {demo_output['distance_error'].median()} km\")\n",
        "\n",
        "BIN_WIDTH = 100\n",
        "ceiling = (int(demo_output['distance_error'].max() / BIN_WIDTH) + 1) * BIN_WIDTH # round up max value to the nearest multiple of BIN_WIDTH\n",
        "\n",
        "plt.figure(figsize=(8, 4), dpi=72)\n",
        "ax = plt.gca()\n",
        "_, bins, _ = plt.hist(demo_output['distance_error'], bins=int(ceiling / BIN_WIDTH), range=(0, ceiling), rwidth=0.9)\n",
        "# bins\n",
        "plt.xlabel('Distance Error of Prediction (km)')\n",
        "plt.ylabel('Frequency')\n",
        "plt.title('Distribution of Location Prediction Distance Errors for Test Dataset')\n",
        "plt.grid(True)\n",
        "ax.minorticks_on()\n",
        "\n",
        "# plt.savefig('/content/drive/MyDrive/APS360 - Deep Learning Project /Colab Notebooks/final_representative_tests/32k_test_histogram.png')"
      ],
      "metadata": {
        "colab": {
          "base_uri": "https://localhost:8080/",
          "height": 382
        },
        "id": "mA-NUywOYVKk",
        "outputId": "2a8da208-ec5e-434d-ddb8-d9da85865541"
      },
      "execution_count": null,
      "outputs": [
        {
          "output_type": "stream",
          "name": "stdout",
          "text": [
            "Total number of locations tested: 4800\n",
            "Average: 748.44 km\n",
            "Minimum: 1.18 km\n",
            "Maximum: 5326.23 km\n",
            "Median: 485.93 km\n"
          ]
        },
        {
          "output_type": "display_data",
          "data": {
            "text/plain": [
              "<Figure size 576x288 with 1 Axes>"
            ],
            "image/png": "[encoded data removed]"
          },
          "metadata": {
            "needs_background": "light"
          }
        }
      ]
    },
    {
      "cell_type": "markdown",
      "source": [
        "Map visualization of geocell relative prediction error frequency:"
      ],
      "metadata": {
        "id": "un2lvKbZncpZ"
      }
    },
    {
      "cell_type": "code",
      "source": [
        "import branca\n",
        "\n",
        "demo_output['is_correct'] = (demo_output['geocell_id'] == demo_output['predicted_geocell'])\n",
        "print(demo_output['is_correct'].sum())\n",
        "wrong_pred = demo_output.groupby('geocell_id')['is_correct'].apply(lambda x: 1 - (x.sum() / len(x)))\n",
        "wrong_pred = wrong_pred.sort_values(ascending=False)\n",
        "wrong_pred = (wrong_pred - wrong_pred.min()) / (wrong_pred.max() - wrong_pred.min()) # normalize to between 0 and 1\n",
        "wrong_pred = wrong_pred.round(4)\n",
        "# wrong_pred\n",
        "\n",
        "geocells = pd.read_csv('/content/drive/MyDrive/APS360 - Deep Learning Project /Colab Notebooks/processed_geocells_final.csv')\n",
        "\n",
        "m = folium.Map(location=[44.967243, -103.771556], zoom_start=3, tiles='cartodb positron')\n",
        "\n",
        "colormap = branca.colormap.linear.YlOrRd_09.scale(wrong_pred.min(), wrong_pred.max(), max_labels=5)\n",
        "colormap.caption = 'Normalized Relative Class Prediction Error Rate'\n",
        "\n",
        "for i, geocell_info in geocells.iterrows():\n",
        "    # draw geocell rectangle\n",
        "    folium.vector_layers.Rectangle(\n",
        "        bounds=[\n",
        "            (geocell_info['lat_top'], geocell_info['lon_left']),\n",
        "            (geocell_info['lat_top'], geocell_info['lon_right']),\n",
        "            (geocell_info['lat_bottom'], geocell_info['lon_right']),\n",
        "            (geocell_info['lat_bottom'], geocell_info['lon_left'])\n",
        "        ], \n",
        "        color='gray', fill=True, fill_color=colormap(wrong_pred[int(geocell_info['geocell_id'])]), \n",
        "        fill_opacity=0.6, \n",
        "        tooltip=f\"ID: {int(geocell_info['geocell_id'])}; normalized error rate: {wrong_pred[geocell_info['geocell_id']]}\").add_to(m)\n",
        "\n",
        "colormap.add_to(m)\n",
        "\n",
        "m"
      ],
      "metadata": {
        "id": "4MuQ3xUxZrgG"
      },
      "execution_count": null,
      "outputs": []
    }
  ]
}